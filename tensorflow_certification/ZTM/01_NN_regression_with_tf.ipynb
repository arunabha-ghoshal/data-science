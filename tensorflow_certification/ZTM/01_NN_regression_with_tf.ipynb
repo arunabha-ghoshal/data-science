{
 "cells": [
  {
   "cell_type": "markdown",
   "metadata": {},
   "source": [
    "#### Hyperparameter               ||            Typical Value (*Source:* Adapted from pg293 of Hands-On Machine Learning with Scikit-Learn, Keras, and TensorFlow, 2nd Edition by Aurélien Géron)\n",
    "Input layer shape - Shape same as number of features (eg: 3 for #bedrooms, #bathrooms, #car spaces in housing price prediction)\n",
    "\n",
    "Hidden layer(s) - Problem specific (minimum=1, maximum=unlimited)\n",
    "\n",
    "Neurons per hidden layer - Problem specific (generally 10 to 100)\n",
    "\n",
    "Output layer shape - Same shape as desired prediction shape (eg.: 1 for house price)\n",
    "\n",
    "Hidden activation - Usually ReLU (rectified linear unit)\n",
    "\n",
    "Output activation - None, ReLU, logistic/tanh\n",
    "\n",
    "Loss function - MSE (mean square error) or MAE (mean absolute error)/Huber(combination of MAE/MSE) if outliers\n",
    "\n",
    "Optimizer - SGD (stochastic gradient descent), Adam\n",
    "\n",
    "*Source:* Adapted from pg293 of Hands-On Machine Learning with Scikit-Learn, Keras, and TensorFlow, 2nd Edition by Aurélien Géron "
   ]
  },
  {
   "cell_type": "markdown",
   "metadata": {},
   "source": [
    "# Introduction to Regression with Neural Network in TensorFlow\n",
    "\n",
    "There are many definitions to a regression problem but in our case, we are going to simply it: by predicting a numerical variable based on some other combination of variables... ie. predicting a number"
   ]
  },
  {
   "cell_type": "code",
   "execution_count": 2,
   "metadata": {},
   "outputs": [
    {
     "name": "stdout",
     "output_type": "stream",
     "text": [
      "2.5.0\n"
     ]
    }
   ],
   "source": [
    "#import Tensorflow\n",
    "import tensorflow as tf\n",
    "print(tf.__version__)"
   ]
  },
  {
   "cell_type": "markdown",
   "metadata": {},
   "source": [
    "### Creating data to view and fit"
   ]
  },
  {
   "cell_type": "code",
   "execution_count": 3,
   "metadata": {},
   "outputs": [],
   "source": [
    "import numpy as np\n",
    "from matplotlib import pyplot as plt"
   ]
  },
  {
   "cell_type": "code",
   "execution_count": 4,
   "metadata": {},
   "outputs": [
    {
     "data": {
      "text/plain": [
       "<matplotlib.collections.PathCollection at 0x1773285aee0>"
      ]
     },
     "execution_count": 4,
     "metadata": {},
     "output_type": "execute_result"
    },
    {
     "data": {
      "image/png": "[encoded data removed]",
      "text/plain": [
       "<Figure size 432x288 with 1 Axes>"
      ]
     },
     "metadata": {
      "needs_background": "light"
     },
     "output_type": "display_data"
    }
   ],
   "source": [
    "#create features (independent variable)\n",
    "X = np.array([-7.0, -4.0, -1.0, 2.0, 5.0, 8.0, 11.0, 14.0])\n",
    "\n",
    "#create labels (dependent variable)\n",
    "y = np.array([3.0, 6.0, 9.0, 12.0, 15.0, 18.0, 21.0, 24.0])\n",
    "\n",
    "#visualize it\n",
    "plt.scatter(X,y)"
   ]
  },
  {
   "cell_type": "code",
   "execution_count": 5,
   "metadata": {},
   "outputs": [
    {
     "data": {
      "image/png": "[encoded data removed]",
      "text/plain": [
       "<Figure size 432x288 with 1 Axes>"
      ]
     },
     "metadata": {
      "needs_background": "light"
     },
     "output_type": "display_data"
    }
   ],
   "source": [
    "X = tf.cast(tf.constant(X), dtype=tf.float32)\n",
    "y = tf.cast(tf.constant(y), dtype=tf.float32)\n",
    "plt.scatter(X, y);"
   ]
  },
  {
   "cell_type": "code",
   "execution_count": 6,
   "metadata": {},
   "outputs": [
    {
     "data": {
      "text/plain": [
       "<tf.Tensor: shape=(8,), dtype=bool, numpy=array([ True,  True,  True,  True,  True,  True,  True,  True])>"
      ]
     },
     "execution_count": 6,
     "metadata": {},
     "output_type": "execute_result"
    }
   ],
   "source": [
    "#relationship between our defined X and y\n",
    "y == X+10"
   ]
  },
  {
   "cell_type": "markdown",
   "metadata": {},
   "source": [
    "### Input and Output shapes"
   ]
  },
  {
   "cell_type": "code",
   "execution_count": 7,
   "metadata": {},
   "outputs": [
    {
     "data": {
      "text/plain": [
       "(<tf.Tensor: shape=(3,), dtype=string, numpy=array([b'bedroom', b'bathroom', b'garage'], dtype=object)>,\n",
       " <tf.Tensor: shape=(1,), dtype=int32, numpy=array([939700])>)"
      ]
     },
     "execution_count": 7,
     "metadata": {},
     "output_type": "execute_result"
    }
   ],
   "source": [
    "#creating a demo tensor for housing price prediction problem\n",
    "house_info = tf.constant([\"bedroom\",\"bathroom\",\"garage\"])\n",
    "house_price = tf.constant([939700])\n",
    "house_info, house_price"
   ]
  },
  {
   "cell_type": "markdown",
   "metadata": {},
   "source": [
    "## Steps in modelling with Tensorflow ##\n",
    "\n",
    "1. Creating a model - define the input and output layers, as well as the hidden layers of a deep learning model.\n",
    "2. Compiling a model - define loss function (the function which tells our model how much wrong it is) and optimizer (how to improve the patterns its learning) and evaluation metrics (what we can use to interpret the performance of our model)\n",
    "3. Fitting a model - letting a model try to find patterns between X & y (features & labels)"
   ]
  },
  {
   "cell_type": "code",
   "execution_count": 8,
   "metadata": {},
   "outputs": [
    {
     "name": "stdout",
     "output_type": "stream",
     "text": [
      "Epoch 1/5\n",
      "1/1 [==============================] - 3s 3s/step - loss: 11.5048 - mae: 11.5048\n",
      "Epoch 2/5\n",
      "1/1 [==============================] - 0s 3ms/step - loss: 11.3723 - mae: 11.3723\n",
      "Epoch 3/5\n",
      "1/1 [==============================] - 0s 2ms/step - loss: 11.2398 - mae: 11.2398\n",
      "Epoch 4/5\n",
      "1/1 [==============================] - 0s 5ms/step - loss: 11.1073 - mae: 11.1073\n",
      "Epoch 5/5\n",
      "1/1 [==============================] - 0s 3ms/step - loss: 10.9748 - mae: 10.9748\n"
     ]
    },
    {
     "data": {
      "text/plain": [
       "<tensorflow.python.keras.callbacks.History at 0x177555a6070>"
      ]
     },
     "execution_count": 8,
     "metadata": {},
     "output_type": "execute_result"
    }
   ],
   "source": [
    "#set random seed\n",
    "tf.random.set_seed(42)\n",
    "\n",
    "# 1. Creating a model using Sequential API\n",
    "model = tf.keras.Sequential(\n",
    "    [tf.keras.layers.Dense(1)]\n",
    ")\n",
    "\n",
    "# 2. Compile the model\n",
    "model.compile(loss=tf.keras.losses.mae, #mae is short for mean absolute error\n",
    "                optimizer=tf.keras.optimizers.SGD(), # SGD - Stochastic Gradient Descent\n",
    "                metrics=[\"mae\"]\n",
    ")\n",
    "\n",
    "# 3. Fit the model\n",
    "model.fit(X, y, epochs=5)"
   ]
  },
  {
   "cell_type": "code",
   "execution_count": 9,
   "metadata": {},
   "outputs": [
    {
     "data": {
      "text/plain": [
       "(<tf.Tensor: shape=(8,), dtype=float32, numpy=array([-7., -4., -1.,  2.,  5.,  8., 11., 14.], dtype=float32)>,\n",
       " <tf.Tensor: shape=(8,), dtype=float32, numpy=array([ 3.,  6.,  9., 12., 15., 18., 21., 24.], dtype=float32)>)"
      ]
     },
     "execution_count": 9,
     "metadata": {},
     "output_type": "execute_result"
    }
   ],
   "source": [
    "#Checking out X and y\n",
    "X, y"
   ]
  },
  {
   "cell_type": "code",
   "execution_count": 10,
   "metadata": {},
   "outputs": [
    {
     "data": {
      "text/plain": [
       "array([[12.716021]], dtype=float32)"
      ]
     },
     "execution_count": 10,
     "metadata": {},
     "output_type": "execute_result"
    }
   ],
   "source": [
    "#Trying to make a prediction with the model\n",
    "model.predict([17.0])"
   ]
  },
  {
   "cell_type": "markdown",
   "metadata": {},
   "source": [
    "## Improving our model \n",
    "\n",
    "We can improve our model by altering the steps we took to create the model\n",
    "\n",
    "1. Creating a model - here we might add more layers, increasing the number of hidden units (also called neurons) within each of the hidden layers, and we might change the activation function of each layer\n",
    "2. Compiling a model - here we might change the optimization function of perhaps the *learning rate* of the optimization function.\n",
    "3. Fitting a model - here we might fit a model for more epochs (leave it longer for training) or on more data (give the model more examples to learn from)"
   ]
  },
  {
   "cell_type": "code",
   "execution_count": 11,
   "metadata": {},
   "outputs": [
    {
     "name": "stdout",
     "output_type": "stream",
     "text": [
      "Epoch 1/100\n",
      "1/1 [==============================] - 0s 171ms/step - loss: 11.2219 - mae: 11.2219\n",
      "Epoch 2/100\n",
      "1/1 [==============================] - 0s 2ms/step - loss: 11.0894 - mae: 11.0894\n",
      "Epoch 3/100\n",
      "1/1 [==============================] - 0s 2ms/step - loss: 10.9569 - mae: 10.9569\n",
      "Epoch 4/100\n",
      "1/1 [==============================] - 0s 3ms/step - loss: 10.8244 - mae: 10.8244\n",
      "Epoch 5/100\n",
      "1/1 [==============================] - 0s 4ms/step - loss: 10.6919 - mae: 10.6919\n",
      "Epoch 6/100\n",
      "1/1 [==============================] - 0s 3ms/step - loss: 10.5594 - mae: 10.5594\n",
      "Epoch 7/100\n",
      "1/1 [==============================] - 0s 3ms/step - loss: 10.4269 - mae: 10.4269\n",
      "Epoch 8/100\n",
      "1/1 [==============================] - 0s 4ms/step - loss: 10.2944 - mae: 10.2944\n",
      "Epoch 9/100\n",
      "1/1 [==============================] - 0s 2ms/step - loss: 10.1619 - mae: 10.1619\n",
      "Epoch 10/100\n",
      "1/1 [==============================] - 0s 3ms/step - loss: 10.0294 - mae: 10.0294\n",
      "Epoch 11/100\n",
      "1/1 [==============================] - 0s 3ms/step - loss: 9.8969 - mae: 9.8969\n",
      "Epoch 12/100\n",
      "1/1 [==============================] - 0s 3ms/step - loss: 9.7644 - mae: 9.7644\n",
      "Epoch 13/100\n",
      "1/1 [==============================] - 0s 2ms/step - loss: 9.6319 - mae: 9.6319\n",
      "Epoch 14/100\n",
      "1/1 [==============================] - 0s 2ms/step - loss: 9.4994 - mae: 9.4994\n",
      "Epoch 15/100\n",
      "1/1 [==============================] - 0s 3ms/step - loss: 9.3669 - mae: 9.3669\n",
      "Epoch 16/100\n",
      "1/1 [==============================] - 0s 3ms/step - loss: 9.2344 - mae: 9.2344\n",
      "Epoch 17/100\n",
      "1/1 [==============================] - 0s 3ms/step - loss: 9.1019 - mae: 9.1019\n",
      "Epoch 18/100\n",
      "1/1 [==============================] - 0s 3ms/step - loss: 8.9694 - mae: 8.9694\n",
      "Epoch 19/100\n",
      "1/1 [==============================] - 0s 3ms/step - loss: 8.8369 - mae: 8.8369\n",
      "Epoch 20/100\n",
      "1/1 [==============================] - 0s 2ms/step - loss: 8.7044 - mae: 8.7044\n",
      "Epoch 21/100\n",
      "1/1 [==============================] - 0s 2ms/step - loss: 8.5719 - mae: 8.5719\n",
      "Epoch 22/100\n",
      "1/1 [==============================] - 0s 3ms/step - loss: 8.4394 - mae: 8.4394\n",
      "Epoch 23/100\n",
      "1/1 [==============================] - 0s 2ms/step - loss: 8.3069 - mae: 8.3069\n",
      "Epoch 24/100\n",
      "1/1 [==============================] - 0s 2ms/step - loss: 8.1744 - mae: 8.1744\n",
      "Epoch 25/100\n",
      "1/1 [==============================] - 0s 3ms/step - loss: 8.0419 - mae: 8.0419\n",
      "Epoch 26/100\n",
      "1/1 [==============================] - 0s 29ms/step - loss: 7.9094 - mae: 7.9094\n",
      "Epoch 27/100\n",
      "1/1 [==============================] - 0s 3ms/step - loss: 7.7769 - mae: 7.7769\n",
      "Epoch 28/100\n",
      "1/1 [==============================] - 0s 3ms/step - loss: 7.6444 - mae: 7.6444\n",
      "Epoch 29/100\n",
      "1/1 [==============================] - 0s 4ms/step - loss: 7.5119 - mae: 7.5119\n",
      "Epoch 30/100\n",
      "1/1 [==============================] - 0s 4ms/step - loss: 7.3794 - mae: 7.3794\n",
      "Epoch 31/100\n",
      "1/1 [==============================] - 0s 3ms/step - loss: 7.2750 - mae: 7.2750\n",
      "Epoch 32/100\n",
      "1/1 [==============================] - 0s 3ms/step - loss: 7.2694 - mae: 7.2694\n",
      "Epoch 33/100\n",
      "1/1 [==============================] - 0s 3ms/step - loss: 7.2638 - mae: 7.2638\n",
      "Epoch 34/100\n",
      "1/1 [==============================] - 0s 2ms/step - loss: 7.2581 - mae: 7.2581\n",
      "Epoch 35/100\n",
      "1/1 [==============================] - 0s 5ms/step - loss: 7.2525 - mae: 7.2525\n",
      "Epoch 36/100\n",
      "1/1 [==============================] - 0s 3ms/step - loss: 7.2469 - mae: 7.2469\n",
      "Epoch 37/100\n",
      "1/1 [==============================] - 0s 3ms/step - loss: 7.2413 - mae: 7.2413\n",
      "Epoch 38/100\n",
      "1/1 [==============================] - 0s 3ms/step - loss: 7.2356 - mae: 7.2356\n",
      "Epoch 39/100\n",
      "1/1 [==============================] - 0s 2ms/step - loss: 7.2300 - mae: 7.2300\n",
      "Epoch 40/100\n",
      "1/1 [==============================] - 0s 2ms/step - loss: 7.2244 - mae: 7.2244\n",
      "Epoch 41/100\n",
      "1/1 [==============================] - 0s 4ms/step - loss: 7.2188 - mae: 7.2188\n",
      "Epoch 42/100\n",
      "1/1 [==============================] - 0s 3ms/step - loss: 7.2131 - mae: 7.2131\n",
      "Epoch 43/100\n",
      "1/1 [==============================] - 0s 2ms/step - loss: 7.2075 - mae: 7.2075\n",
      "Epoch 44/100\n",
      "1/1 [==============================] - 0s 3ms/step - loss: 7.2019 - mae: 7.2019\n",
      "Epoch 45/100\n",
      "1/1 [==============================] - 0s 3ms/step - loss: 7.1962 - mae: 7.1962\n",
      "Epoch 46/100\n",
      "1/1 [==============================] - 0s 2ms/step - loss: 7.1906 - mae: 7.1906\n",
      "Epoch 47/100\n",
      "1/1 [==============================] - 0s 3ms/step - loss: 7.1850 - mae: 7.1850\n",
      "Epoch 48/100\n",
      "1/1 [==============================] - 0s 2ms/step - loss: 7.1794 - mae: 7.1794\n",
      "Epoch 49/100\n",
      "1/1 [==============================] - 0s 3ms/step - loss: 7.1737 - mae: 7.1737\n",
      "Epoch 50/100\n",
      "1/1 [==============================] - 0s 2ms/step - loss: 7.1681 - mae: 7.1681\n",
      "Epoch 51/100\n",
      "1/1 [==============================] - 0s 2ms/step - loss: 7.1625 - mae: 7.1625\n",
      "Epoch 52/100\n",
      "1/1 [==============================] - 0s 4ms/step - loss: 7.1569 - mae: 7.1569\n",
      "Epoch 53/100\n",
      "1/1 [==============================] - 0s 3ms/step - loss: 7.1512 - mae: 7.1512\n",
      "Epoch 54/100\n",
      "1/1 [==============================] - 0s 3ms/step - loss: 7.1456 - mae: 7.1456\n",
      "Epoch 55/100\n",
      "1/1 [==============================] - 0s 3ms/step - loss: 7.1400 - mae: 7.1400\n",
      "Epoch 56/100\n",
      "1/1 [==============================] - 0s 2ms/step - loss: 7.1344 - mae: 7.1344\n",
      "Epoch 57/100\n",
      "1/1 [==============================] - 0s 3ms/step - loss: 7.1287 - mae: 7.1287\n",
      "Epoch 58/100\n",
      "1/1 [==============================] - 0s 2ms/step - loss: 7.1231 - mae: 7.1231\n",
      "Epoch 59/100\n",
      "1/1 [==============================] - 0s 3ms/step - loss: 7.1175 - mae: 7.1175\n",
      "Epoch 60/100\n",
      "1/1 [==============================] - 0s 3ms/step - loss: 7.1119 - mae: 7.1119\n",
      "Epoch 61/100\n",
      "1/1 [==============================] - 0s 2ms/step - loss: 7.1062 - mae: 7.1062\n",
      "Epoch 62/100\n",
      "1/1 [==============================] - 0s 2ms/step - loss: 7.1006 - mae: 7.1006\n",
      "Epoch 63/100\n",
      "1/1 [==============================] - 0s 3ms/step - loss: 7.0950 - mae: 7.0950\n",
      "Epoch 64/100\n",
      "1/1 [==============================] - 0s 3ms/step - loss: 7.0894 - mae: 7.0894\n",
      "Epoch 65/100\n",
      "1/1 [==============================] - 0s 2ms/step - loss: 7.0838 - mae: 7.0838\n",
      "Epoch 66/100\n",
      "1/1 [==============================] - 0s 4ms/step - loss: 7.0781 - mae: 7.0781\n",
      "Epoch 67/100\n",
      "1/1 [==============================] - 0s 2ms/step - loss: 7.0725 - mae: 7.0725\n",
      "Epoch 68/100\n",
      "1/1 [==============================] - 0s 2ms/step - loss: 7.0669 - mae: 7.0669\n",
      "Epoch 69/100\n",
      "1/1 [==============================] - 0s 2ms/step - loss: 7.0613 - mae: 7.0613\n",
      "Epoch 70/100\n",
      "1/1 [==============================] - 0s 2ms/step - loss: 7.0556 - mae: 7.0556\n",
      "Epoch 71/100\n",
      "1/1 [==============================] - 0s 2ms/step - loss: 7.0500 - mae: 7.0500\n",
      "Epoch 72/100\n",
      "1/1 [==============================] - 0s 3ms/step - loss: 7.0444 - mae: 7.0444\n",
      "Epoch 73/100\n",
      "1/1 [==============================] - 0s 4ms/step - loss: 7.0388 - mae: 7.0388\n",
      "Epoch 74/100\n",
      "1/1 [==============================] - 0s 3ms/step - loss: 7.0331 - mae: 7.0331\n",
      "Epoch 75/100\n",
      "1/1 [==============================] - 0s 3ms/step - loss: 7.0275 - mae: 7.0275\n",
      "Epoch 76/100\n",
      "1/1 [==============================] - 0s 3ms/step - loss: 7.0219 - mae: 7.0219\n",
      "Epoch 77/100\n",
      "1/1 [==============================] - 0s 2ms/step - loss: 7.0163 - mae: 7.0163\n",
      "Epoch 78/100\n",
      "1/1 [==============================] - 0s 3ms/step - loss: 7.0106 - mae: 7.0106\n",
      "Epoch 79/100\n",
      "1/1 [==============================] - 0s 2ms/step - loss: 7.0050 - mae: 7.0050\n",
      "Epoch 80/100\n",
      "1/1 [==============================] - 0s 3ms/step - loss: 6.9994 - mae: 6.9994\n",
      "Epoch 81/100\n",
      "1/1 [==============================] - 0s 3ms/step - loss: 6.9938 - mae: 6.9938\n",
      "Epoch 82/100\n",
      "1/1 [==============================] - 0s 3ms/step - loss: 6.9881 - mae: 6.9881\n",
      "Epoch 83/100\n",
      "1/1 [==============================] - 0s 3ms/step - loss: 6.9825 - mae: 6.9825\n",
      "Epoch 84/100\n",
      "1/1 [==============================] - 0s 3ms/step - loss: 6.9769 - mae: 6.9769\n",
      "Epoch 85/100\n",
      "1/1 [==============================] - 0s 3ms/step - loss: 6.9713 - mae: 6.9713\n",
      "Epoch 86/100\n",
      "1/1 [==============================] - 0s 3ms/step - loss: 6.9656 - mae: 6.9656\n",
      "Epoch 87/100\n",
      "1/1 [==============================] - 0s 3ms/step - loss: 6.9600 - mae: 6.9600\n",
      "Epoch 88/100\n",
      "1/1 [==============================] - 0s 3ms/step - loss: 6.9544 - mae: 6.9544\n",
      "Epoch 89/100\n",
      "1/1 [==============================] - 0s 3ms/step - loss: 6.9488 - mae: 6.9488\n",
      "Epoch 90/100\n",
      "1/1 [==============================] - 0s 3ms/step - loss: 6.9431 - mae: 6.9431\n",
      "Epoch 91/100\n",
      "1/1 [==============================] - 0s 4ms/step - loss: 6.9375 - mae: 6.9375\n",
      "Epoch 92/100\n",
      "1/1 [==============================] - 0s 2ms/step - loss: 6.9319 - mae: 6.9319\n",
      "Epoch 93/100\n",
      "1/1 [==============================] - 0s 3ms/step - loss: 6.9262 - mae: 6.9262\n",
      "Epoch 94/100\n",
      "1/1 [==============================] - 0s 2ms/step - loss: 6.9206 - mae: 6.9206\n",
      "Epoch 95/100\n",
      "1/1 [==============================] - 0s 2ms/step - loss: 6.9150 - mae: 6.9150\n",
      "Epoch 96/100\n",
      "1/1 [==============================] - 0s 2ms/step - loss: 6.9094 - mae: 6.9094\n",
      "Epoch 97/100\n",
      "1/1 [==============================] - 0s 4ms/step - loss: 6.9038 - mae: 6.9038\n",
      "Epoch 98/100\n",
      "1/1 [==============================] - 0s 3ms/step - loss: 6.8981 - mae: 6.8981\n",
      "Epoch 99/100\n",
      "1/1 [==============================] - 0s 2ms/step - loss: 6.8925 - mae: 6.8925\n",
      "Epoch 100/100\n",
      "1/1 [==============================] - 0s 3ms/step - loss: 6.8869 - mae: 6.8869\n"
     ]
    },
    {
     "data": {
      "text/plain": [
       "<tensorflow.python.keras.callbacks.History at 0x1777ebfcb50>"
      ]
     },
     "execution_count": 11,
     "metadata": {},
     "output_type": "execute_result"
    }
   ],
   "source": [
    "#rebuilding our model\n",
    "\n",
    "# 1. Model creation\n",
    "model = tf.keras.Sequential(\n",
    "    tf.keras.layers.Dense(1)\n",
    ")\n",
    "# 2. Compiling model\n",
    "model.compile(loss=tf.keras.losses.mae,\n",
    "            optimizer=tf.keras.optimizers.SGD(),\n",
    "            metrics=[\"mae\"])\n",
    "# 3.Fit the model (this time we'll train for longer)\n",
    "model.fit(X, y, epochs=100)\n"
   ]
  },
  {
   "cell_type": "code",
   "execution_count": 12,
   "metadata": {},
   "outputs": [
    {
     "data": {
      "text/plain": [
       "(<tf.Tensor: shape=(8,), dtype=float32, numpy=array([-7., -4., -1.,  2.,  5.,  8., 11., 14.], dtype=float32)>,\n",
       " <tf.Tensor: shape=(8,), dtype=float32, numpy=array([ 3.,  6.,  9., 12., 15., 18., 21., 24.], dtype=float32)>)"
      ]
     },
     "execution_count": 12,
     "metadata": {},
     "output_type": "execute_result"
    }
   ],
   "source": [
    "#our data\n",
    "X, y"
   ]
  },
  {
   "cell_type": "code",
   "execution_count": 13,
   "metadata": {},
   "outputs": [
    {
     "data": {
      "text/plain": [
       "array([[29.739855]], dtype=float32)"
      ]
     },
     "execution_count": 13,
     "metadata": {},
     "output_type": "execute_result"
    }
   ],
   "source": [
    "model.predict([17.0])"
   ]
  },
  {
   "cell_type": "code",
   "execution_count": 14,
   "metadata": {},
   "outputs": [
    {
     "name": "stderr",
     "output_type": "stream",
     "text": [
      "C:\\Users\\aruna\\anaconda3\\envs\\tf2_gpu\\lib\\site-packages\\tensorflow\\python\\keras\\optimizer_v2\\optimizer_v2.py:374: UserWarning: The `lr` argument is deprecated, use `learning_rate` instead.\n",
      "  warnings.warn(\n"
     ]
    },
    {
     "name": "stdout",
     "output_type": "stream",
     "text": [
      "Epoch 1/100\n",
      "1/1 [==============================] - 0s 246ms/step - loss: 12.0109 - mae: 12.0109\n",
      "Epoch 2/100\n",
      "1/1 [==============================] - 0s 4ms/step - loss: 11.0827 - mae: 11.0827\n",
      "Epoch 3/100\n",
      "1/1 [==============================] - 0s 3ms/step - loss: 10.1377 - mae: 10.1377\n",
      "Epoch 4/100\n",
      "1/1 [==============================] - 0s 3ms/step - loss: 9.1686 - mae: 9.1686\n",
      "Epoch 5/100\n",
      "1/1 [==============================] - 0s 3ms/step - loss: 8.1666 - mae: 8.1666\n",
      "Epoch 6/100\n",
      "1/1 [==============================] - 0s 4ms/step - loss: 7.1234 - mae: 7.1234\n",
      "Epoch 7/100\n",
      "1/1 [==============================] - 0s 4ms/step - loss: 7.0478 - mae: 7.0478\n",
      "Epoch 8/100\n",
      "1/1 [==============================] - 0s 3ms/step - loss: 7.4552 - mae: 7.4552\n",
      "Epoch 9/100\n",
      "1/1 [==============================] - 0s 4ms/step - loss: 7.7956 - mae: 7.7956\n",
      "Epoch 10/100\n",
      "1/1 [==============================] - 0s 4ms/step - loss: 7.8033 - mae: 7.8033\n",
      "Epoch 11/100\n",
      "1/1 [==============================] - 0s 4ms/step - loss: 7.5200 - mae: 7.5200\n",
      "Epoch 12/100\n",
      "1/1 [==============================] - 0s 3ms/step - loss: 7.1109 - mae: 7.1109\n",
      "Epoch 13/100\n",
      "1/1 [==============================] - 0s 4ms/step - loss: 6.7677 - mae: 6.7677\n",
      "Epoch 14/100\n",
      "1/1 [==============================] - 0s 4ms/step - loss: 6.4016 - mae: 6.4016\n",
      "Epoch 15/100\n",
      "1/1 [==============================] - 0s 3ms/step - loss: 6.2357 - mae: 6.2357\n",
      "Epoch 16/100\n",
      "1/1 [==============================] - 0s 3ms/step - loss: 6.2422 - mae: 6.2422\n",
      "Epoch 17/100\n",
      "1/1 [==============================] - 0s 3ms/step - loss: 6.3557 - mae: 6.3557\n",
      "Epoch 18/100\n",
      "1/1 [==============================] - 0s 2ms/step - loss: 6.3170 - mae: 6.3170\n",
      "Epoch 19/100\n",
      "1/1 [==============================] - 0s 3ms/step - loss: 6.1484 - mae: 6.1484\n",
      "Epoch 20/100\n",
      "1/1 [==============================] - 0s 4ms/step - loss: 5.8644 - mae: 5.8644\n",
      "Epoch 21/100\n",
      "1/1 [==============================] - 0s 2ms/step - loss: 5.6409 - mae: 5.6409\n",
      "Epoch 22/100\n",
      "1/1 [==============================] - 0s 3ms/step - loss: 5.4964 - mae: 5.4964\n",
      "Epoch 23/100\n",
      "1/1 [==============================] - 0s 3ms/step - loss: 5.4790 - mae: 5.4790\n",
      "Epoch 24/100\n",
      "1/1 [==============================] - 0s 3ms/step - loss: 5.4653 - mae: 5.4653\n",
      "Epoch 25/100\n",
      "1/1 [==============================] - 0s 4ms/step - loss: 5.3918 - mae: 5.3918\n",
      "Epoch 26/100\n",
      "1/1 [==============================] - 0s 3ms/step - loss: 5.2633 - mae: 5.2633\n",
      "Epoch 27/100\n",
      "1/1 [==============================] - 0s 3ms/step - loss: 5.0846 - mae: 5.0846\n",
      "Epoch 28/100\n",
      "1/1 [==============================] - 0s 4ms/step - loss: 4.8603 - mae: 4.8603\n",
      "Epoch 29/100\n",
      "1/1 [==============================] - 0s 3ms/step - loss: 4.5949 - mae: 4.5949\n",
      "Epoch 30/100\n",
      "1/1 [==============================] - 0s 3ms/step - loss: 4.4549 - mae: 4.4549\n",
      "Epoch 31/100\n",
      "1/1 [==============================] - 0s 3ms/step - loss: 4.3418 - mae: 4.3418\n",
      "Epoch 32/100\n",
      "1/1 [==============================] - 0s 3ms/step - loss: 4.2468 - mae: 4.2468\n",
      "Epoch 33/100\n",
      "1/1 [==============================] - 0s 4ms/step - loss: 3.9891 - mae: 3.9891\n",
      "Epoch 34/100\n",
      "1/1 [==============================] - 0s 3ms/step - loss: 3.7639 - mae: 3.7639\n",
      "Epoch 35/100\n",
      "1/1 [==============================] - 0s 3ms/step - loss: 3.5839 - mae: 3.5839\n",
      "Epoch 36/100\n",
      "1/1 [==============================] - 0s 3ms/step - loss: 3.4578 - mae: 3.4578\n",
      "Epoch 37/100\n",
      "1/1 [==============================] - 0s 4ms/step - loss: 3.2638 - mae: 3.2638\n",
      "Epoch 38/100\n",
      "1/1 [==============================] - 0s 4ms/step - loss: 3.0042 - mae: 3.0042\n",
      "Epoch 39/100\n",
      "1/1 [==============================] - 0s 3ms/step - loss: 2.6811 - mae: 2.6811\n",
      "Epoch 40/100\n",
      "1/1 [==============================] - 0s 4ms/step - loss: 2.4239 - mae: 2.4239\n",
      "Epoch 41/100\n",
      "1/1 [==============================] - 0s 3ms/step - loss: 2.3192 - mae: 2.3192\n",
      "Epoch 42/100\n",
      "1/1 [==============================] - 0s 3ms/step - loss: 2.0513 - mae: 2.0513\n",
      "Epoch 43/100\n",
      "1/1 [==============================] - 0s 3ms/step - loss: 1.5789 - mae: 1.5789\n",
      "Epoch 44/100\n",
      "1/1 [==============================] - 0s 3ms/step - loss: 1.2803 - mae: 1.2803\n",
      "Epoch 45/100\n",
      "1/1 [==============================] - 0s 3ms/step - loss: 1.0004 - mae: 1.0004\n",
      "Epoch 46/100\n",
      "1/1 [==============================] - 0s 4ms/step - loss: 0.6313 - mae: 0.6313\n",
      "Epoch 47/100\n",
      "1/1 [==============================] - 0s 3ms/step - loss: 0.3518 - mae: 0.3518\n",
      "Epoch 48/100\n",
      "1/1 [==============================] - 0s 3ms/step - loss: 0.3730 - mae: 0.3730\n",
      "Epoch 49/100\n",
      "1/1 [==============================] - 0s 4ms/step - loss: 0.5499 - mae: 0.5499\n",
      "Epoch 50/100\n",
      "1/1 [==============================] - 0s 4ms/step - loss: 0.7919 - mae: 0.7919\n",
      "Epoch 51/100\n",
      "1/1 [==============================] - 0s 3ms/step - loss: 0.8574 - mae: 0.8574\n",
      "Epoch 52/100\n",
      "1/1 [==============================] - 0s 3ms/step - loss: 0.9624 - mae: 0.9624\n",
      "Epoch 53/100\n",
      "1/1 [==============================] - 0s 4ms/step - loss: 0.9383 - mae: 0.9383\n",
      "Epoch 54/100\n",
      "1/1 [==============================] - 0s 3ms/step - loss: 0.9713 - mae: 0.9713\n",
      "Epoch 55/100\n",
      "1/1 [==============================] - 0s 4ms/step - loss: 0.8291 - mae: 0.8291\n",
      "Epoch 56/100\n",
      "1/1 [==============================] - 0s 3ms/step - loss: 0.7936 - mae: 0.7936\n",
      "Epoch 57/100\n",
      "1/1 [==============================] - 0s 3ms/step - loss: 0.6821 - mae: 0.6821\n",
      "Epoch 58/100\n",
      "1/1 [==============================] - 0s 4ms/step - loss: 0.3599 - mae: 0.3599\n",
      "Epoch 59/100\n",
      "1/1 [==============================] - 0s 3ms/step - loss: 0.3561 - mae: 0.3561\n",
      "Epoch 60/100\n",
      "1/1 [==============================] - 0s 3ms/step - loss: 0.4130 - mae: 0.4130\n",
      "Epoch 61/100\n",
      "1/1 [==============================] - 0s 4ms/step - loss: 0.2622 - mae: 0.2622\n",
      "Epoch 62/100\n",
      "1/1 [==============================] - 0s 4ms/step - loss: 0.5551 - mae: 0.5551\n",
      "Epoch 63/100\n",
      "1/1 [==============================] - 0s 3ms/step - loss: 0.6129 - mae: 0.6129\n",
      "Epoch 64/100\n",
      "1/1 [==============================] - 0s 5ms/step - loss: 0.4664 - mae: 0.4664\n",
      "Epoch 65/100\n",
      "1/1 [==============================] - 0s 2ms/step - loss: 0.5550 - mae: 0.5550\n",
      "Epoch 66/100\n",
      "1/1 [==============================] - 0s 3ms/step - loss: 0.5041 - mae: 0.5041\n",
      "Epoch 67/100\n",
      "1/1 [==============================] - 0s 4ms/step - loss: 0.3059 - mae: 0.3059\n",
      "Epoch 68/100\n",
      "1/1 [==============================] - 0s 3ms/step - loss: 0.3179 - mae: 0.3179\n",
      "Epoch 69/100\n",
      "1/1 [==============================] - 0s 4ms/step - loss: 0.1288 - mae: 0.1288\n",
      "Epoch 70/100\n",
      "1/1 [==============================] - 0s 3ms/step - loss: 0.3194 - mae: 0.3194\n",
      "Epoch 71/100\n",
      "1/1 [==============================] - 0s 3ms/step - loss: 0.4344 - mae: 0.4344\n",
      "Epoch 72/100\n",
      "1/1 [==============================] - 0s 3ms/step - loss: 0.3294 - mae: 0.3294\n",
      "Epoch 73/100\n",
      "1/1 [==============================] - 0s 2ms/step - loss: 0.5475 - mae: 0.5475\n",
      "Epoch 74/100\n",
      "1/1 [==============================] - 0s 3ms/step - loss: 0.6087 - mae: 0.6087\n",
      "Epoch 75/100\n",
      "1/1 [==============================] - 0s 3ms/step - loss: 0.3410 - mae: 0.3410\n",
      "Epoch 76/100\n",
      "1/1 [==============================] - 0s 2ms/step - loss: 0.3422 - mae: 0.3422\n",
      "Epoch 77/100\n",
      "1/1 [==============================] - 0s 3ms/step - loss: 0.4650 - mae: 0.4650\n",
      "Epoch 78/100\n",
      "1/1 [==============================] - 0s 3ms/step - loss: 0.2707 - mae: 0.2707\n",
      "Epoch 79/100\n",
      "1/1 [==============================] - 0s 3ms/step - loss: 0.3086 - mae: 0.3086\n",
      "Epoch 80/100\n",
      "1/1 [==============================] - 0s 2ms/step - loss: 0.4796 - mae: 0.4796\n",
      "Epoch 81/100\n",
      "1/1 [==============================] - 0s 3ms/step - loss: 0.3886 - mae: 0.3886\n",
      "Epoch 82/100\n",
      "1/1 [==============================] - 0s 3ms/step - loss: 0.1964 - mae: 0.1964\n",
      "Epoch 83/100\n",
      "1/1 [==============================] - 0s 3ms/step - loss: 0.2402 - mae: 0.2402\n",
      "Epoch 84/100\n",
      "1/1 [==============================] - 0s 3ms/step - loss: 0.0870 - mae: 0.0870\n",
      "Epoch 85/100\n",
      "1/1 [==============================] - 0s 3ms/step - loss: 0.0371 - mae: 0.0371\n",
      "Epoch 86/100\n",
      "1/1 [==============================] - 0s 3ms/step - loss: 0.2129 - mae: 0.2129\n",
      "Epoch 87/100\n",
      "1/1 [==============================] - 0s 3ms/step - loss: 0.1182 - mae: 0.1182\n",
      "Epoch 88/100\n",
      "1/1 [==============================] - 0s 3ms/step - loss: 0.2935 - mae: 0.2935\n",
      "Epoch 89/100\n",
      "1/1 [==============================] - 0s 3ms/step - loss: 0.2886 - mae: 0.2886\n",
      "Epoch 90/100\n",
      "1/1 [==============================] - 0s 3ms/step - loss: 0.0524 - mae: 0.0524\n",
      "Epoch 91/100\n",
      "1/1 [==============================] - 0s 3ms/step - loss: 0.0397 - mae: 0.0397\n",
      "Epoch 92/100\n",
      "1/1 [==============================] - 0s 3ms/step - loss: 0.2393 - mae: 0.2393\n",
      "Epoch 93/100\n",
      "1/1 [==============================] - 0s 3ms/step - loss: 0.1324 - mae: 0.1324\n",
      "Epoch 94/100\n",
      "1/1 [==============================] - 0s 3ms/step - loss: 0.2853 - mae: 0.2853\n",
      "Epoch 95/100\n",
      "1/1 [==============================] - 0s 3ms/step - loss: 0.3392 - mae: 0.3392\n",
      "Epoch 96/100\n",
      "1/1 [==============================] - 0s 3ms/step - loss: 0.0724 - mae: 0.0724\n",
      "Epoch 97/100\n",
      "1/1 [==============================] - 0s 2ms/step - loss: 0.4812 - mae: 0.4812\n",
      "Epoch 98/100\n",
      "1/1 [==============================] - 0s 3ms/step - loss: 0.6642 - mae: 0.6642\n",
      "Epoch 99/100\n",
      "1/1 [==============================] - 0s 3ms/step - loss: 0.5157 - mae: 0.5157\n",
      "Epoch 100/100\n",
      "1/1 [==============================] - 0s 3ms/step - loss: 0.0767 - mae: 0.0767\n"
     ]
    },
    {
     "data": {
      "text/plain": [
       "<tensorflow.python.keras.callbacks.History at 0x1781c0a79d0>"
      ]
     },
     "execution_count": 14,
     "metadata": {},
     "output_type": "execute_result"
    }
   ],
   "source": [
    "#Trying to improve the model\n",
    "\n",
    "#1. Creation of model (with extra hidden layer with 100 hidden units)\n",
    "model = tf.keras.Sequential([\n",
    "    tf.keras.layers.Dense(100, activation=None),\n",
    "    tf.keras.layers.Dense(1)\n",
    "])\n",
    "\n",
    "#2. Compiling model\n",
    "model.compile(loss=tf.keras.losses.mae,\n",
    "    optimizer=tf.keras.optimizers.Adam(lr=0.01),\n",
    "    metrics=[\"mae\"]\n",
    ")\n",
    "\n",
    "#3. Fitting the model\n",
    "model.fit(X, y, epochs=100)"
   ]
  },
  {
   "cell_type": "code",
   "execution_count": 15,
   "metadata": {},
   "outputs": [
    {
     "data": {
      "text/plain": [
       "(<tf.Tensor: shape=(8,), dtype=float32, numpy=array([-7., -4., -1.,  2.,  5.,  8., 11., 14.], dtype=float32)>,\n",
       " <tf.Tensor: shape=(8,), dtype=float32, numpy=array([ 3.,  6.,  9., 12., 15., 18., 21., 24.], dtype=float32)>)"
      ]
     },
     "execution_count": 15,
     "metadata": {},
     "output_type": "execute_result"
    }
   ],
   "source": [
    "#initial data\n",
    "X, y"
   ]
  },
  {
   "cell_type": "code",
   "execution_count": 16,
   "metadata": {},
   "outputs": [
    {
     "data": {
      "text/plain": [
       "array([[25.358276]], dtype=float32)"
      ]
     },
     "execution_count": 16,
     "metadata": {},
     "output_type": "execute_result"
    }
   ],
   "source": [
    "#prediction\n",
    "model.predict([17.0])"
   ]
  },
  {
   "cell_type": "markdown",
   "metadata": {},
   "source": [
    "## Common ways to improve deep learning model\n",
    "\n",
    "1. Adding layers\n",
    "2. Increase the number of hidden units\n",
    "3. Change the activation function\n",
    "4. Change the optimization function\n",
    "5. Change the learning rate (most important hyper parameter)\n",
    "6. Fitting on more data\n",
    "7. Fitting for longer (increasing epochs)"
   ]
  },
  {
   "cell_type": "markdown",
   "metadata": {},
   "source": [
    "## Evaluating a model\n",
    "\n",
    "In practice, typical workflow while building a neural network:\n",
    "\n",
    "```\n",
    "Build a model -> fit it -> evaluate it -> tweak a model -> fit it -> evaluate it -> tweak a model -> fit it -> evaluate it ...\n",
    "```"
   ]
  },
  {
   "cell_type": "markdown",
   "metadata": {},
   "source": [
    "When it comes to evaluation of model *visualization* is very important !\n",
    "\n",
    "It's a good idea to visualize:\n",
    "* The date - what data we are working with? What does it look like?\n",
    "* The model itself  - what does our model look like?\n",
    "* The training of a model - how does a model perform while it learns\n",
    "* The predictions of the model - how do the predictions of the model line up against the ground truth (the original label)?"
   ]
  },
  {
   "cell_type": "code",
   "execution_count": 17,
   "metadata": {},
   "outputs": [
    {
     "data": {
      "text/plain": [
       "(<tf.Tensor: shape=(50,), dtype=int32, numpy=\n",
       " array([-100,  -96,  -92,  -88,  -84,  -80,  -76,  -72,  -68,  -64,  -60,\n",
       "         -56,  -52,  -48,  -44,  -40,  -36,  -32,  -28,  -24,  -20,  -16,\n",
       "         -12,   -8,   -4,    0,    4,    8,   12,   16,   20,   24,   28,\n",
       "          32,   36,   40,   44,   48,   52,   56,   60,   64,   68,   72,\n",
       "          76,   80,   84,   88,   92,   96])>,\n",
       " <tf.Tensor: shape=(50,), dtype=int32, numpy=\n",
       " array([-90, -86, -82, -78, -74, -70, -66, -62, -58, -54, -50, -46, -42,\n",
       "        -38, -34, -30, -26, -22, -18, -14, -10,  -6,  -2,   2,   6,  10,\n",
       "         14,  18,  22,  26,  30,  34,  38,  42,  46,  50,  54,  58,  62,\n",
       "         66,  70,  74,  78,  82,  86,  90,  94,  98, 102, 106])>)"
      ]
     },
     "execution_count": 17,
     "metadata": {},
     "output_type": "execute_result"
    }
   ],
   "source": [
    "#making a bigger dataset\n",
    "X = tf.range(-100, 100, 4)\n",
    "#making labels for dataset\n",
    "y = X + 10\n",
    "X,y"
   ]
  },
  {
   "cell_type": "code",
   "execution_count": 18,
   "metadata": {},
   "outputs": [
    {
     "data": {
      "image/png": "[encoded data removed]",
      "text/plain": [
       "<Figure size 432x288 with 1 Axes>"
      ]
     },
     "metadata": {
      "needs_background": "light"
     },
     "output_type": "display_data"
    }
   ],
   "source": [
    "#Visualize the data\n",
    "from matplotlib import pyplot as pyplot\n",
    "plt.scatter(X, y);"
   ]
  },
  {
   "cell_type": "markdown",
   "metadata": {},
   "source": [
    "### The3 3 sets ...\n",
    "\n",
    "* **Training set** - the model learns from the data, typically 70-80% of total data available\n",
    "* **Validation set** - the model gets tuned on this data, which is typically 10-15% of the data available\n",
    "* **Test set** - the model gets evaluated on this dataset to test what it has learned, this set is typically 10-15% of the total data available "
   ]
  },
  {
   "cell_type": "code",
   "execution_count": 19,
   "metadata": {},
   "outputs": [
    {
     "name": "stdout",
     "output_type": "stream",
     "text": [
      "Original X:  50\n",
      "Original y:  50\n",
      "X_train:  40\n",
      "X_test:  10\n",
      "y_train:  40\n",
      "y_test:  10\n"
     ]
    }
   ],
   "source": [
    "#Splitting data into training and testing data sets\n",
    "X_train = X[:40] #first 40 are training samples (80% of the data)\n",
    "y_train = y[:40]\n",
    "\n",
    "X_test = X[40:] #last 10 are testing samples (20% of the data)\n",
    "y_test = y[40:]\n",
    "\n",
    "print(\"Original X: \", len(X))\n",
    "print(\"Original y: \",len(y))\n",
    "print(\"X_train: \",len(X_train))\n",
    "print(\"X_test: \",len(X_test))\n",
    "print(\"y_train: \",len(y_train))\n",
    "print(\"y_test: \",len(y_test))"
   ]
  },
  {
   "cell_type": "code",
   "execution_count": 20,
   "metadata": {},
   "outputs": [
    {
     "data": {
      "image/png": "[encoded data removed]",
      "text/plain": [
       "<Figure size 720x504 with 1 Axes>"
      ]
     },
     "metadata": {
      "needs_background": "light"
     },
     "output_type": "display_data"
    }
   ],
   "source": [
    "#Visualizing data\n",
    "plt.figure(figsize=[10,7])\n",
    "#plotting training data\n",
    "plt.scatter(X_train, y_train, c='b', label=\"Training data\")\n",
    "#plotting test data\n",
    "plt.scatter(X_test, y_test, c='c', label=\"Test data\")\n",
    "#show a legend\n",
    "plt.legend();"
   ]
  },
  {
   "cell_type": "code",
   "execution_count": 21,
   "metadata": {},
   "outputs": [],
   "source": [
    "#building a neural network on the new data\n",
    "\n",
    "#1. create a model\n",
    "model = tf.keras.Sequential([\n",
    "    tf.keras.layers.Dense(1)\n",
    "])\n",
    "\n",
    "#2. Compiling the model\n",
    "model.compile(loss=tf.keras.losses.mae,\n",
    "    optimizer=tf.keras.optimizers.SGD(),\n",
    "    metrics=\"mae\")\n",
    "\n",
    "#3. Fitting the model\n",
    "#model.fit(X_train, y_train, epochs=100)"
   ]
  },
  {
   "cell_type": "markdown",
   "metadata": {},
   "source": [
    "## Visualizing the model"
   ]
  },
  {
   "cell_type": "code",
   "execution_count": 22,
   "metadata": {},
   "outputs": [
    {
     "ename": "ValueError",
     "evalue": "This model has not yet been built. Build the model first by calling `build()` or calling `fit()` with some data, or specify an `input_shape` argument in the first layer(s) for automatic build.",
     "output_type": "error",
     "traceback": [
      "\u001b[1;31m---------------------------------------------------------------------------\u001b[0m",
      "\u001b[1;31mValueError\u001b[0m                                Traceback (most recent call last)",
      "\u001b[1;32m<ipython-input-22-5f15418b3570>\u001b[0m in \u001b[0;36m<module>\u001b[1;34m\u001b[0m\n\u001b[1;32m----> 1\u001b[1;33m \u001b[0mmodel\u001b[0m\u001b[1;33m.\u001b[0m\u001b[0msummary\u001b[0m\u001b[1;33m(\u001b[0m\u001b[1;33m)\u001b[0m\u001b[1;33m\u001b[0m\u001b[1;33m\u001b[0m\u001b[0m\n\u001b[0m",
      "\u001b[1;32m~\\anaconda3\\envs\\tf2_gpu\\lib\\site-packages\\tensorflow\\python\\keras\\engine\\training.py\u001b[0m in \u001b[0;36msummary\u001b[1;34m(self, line_length, positions, print_fn)\u001b[0m\n\u001b[0;32m   2475\u001b[0m     \"\"\"\n\u001b[0;32m   2476\u001b[0m     \u001b[1;32mif\u001b[0m \u001b[1;32mnot\u001b[0m \u001b[0mself\u001b[0m\u001b[1;33m.\u001b[0m\u001b[0mbuilt\u001b[0m\u001b[1;33m:\u001b[0m\u001b[1;33m\u001b[0m\u001b[1;33m\u001b[0m\u001b[0m\n\u001b[1;32m-> 2477\u001b[1;33m       raise ValueError('This model has not yet been built. '\n\u001b[0m\u001b[0;32m   2478\u001b[0m                        \u001b[1;34m'Build the model first by calling `build()` or calling '\u001b[0m\u001b[1;33m\u001b[0m\u001b[1;33m\u001b[0m\u001b[0m\n\u001b[0;32m   2479\u001b[0m                        \u001b[1;34m'`fit()` with some data, or specify '\u001b[0m\u001b[1;33m\u001b[0m\u001b[1;33m\u001b[0m\u001b[0m\n",
      "\u001b[1;31mValueError\u001b[0m: This model has not yet been built. Build the model first by calling `build()` or calling `fit()` with some data, or specify an `input_shape` argument in the first layer(s) for automatic build."
     ]
    }
   ],
   "source": [
    "model.summary()"
   ]
  },
  {
   "cell_type": "code",
   "execution_count": 23,
   "metadata": {},
   "outputs": [],
   "source": [
    "#creating a model which builds automatically by defining the input_shape argument\n",
    "tf.random.set_seed(42)\n",
    "\n",
    "#1. Creating a model (same as above)\n",
    "model = tf.keras.Sequential([\n",
    "    tf.keras.layers.Dense(10, input_shape=[1], name=\"input_layer\"),\n",
    "    tf.keras.layers.Dense(1, name=\"output_layer\")\n",
    "], name=\"test_model_1\")\n",
    "\n",
    "#2. Compiling the model (same as above)\n",
    "model.compile(loss=tf.keras.losses.mae,\n",
    "    optimizer=tf.keras.optimizers.SGD(),\n",
    "    metrics=[\"mae\"])\n"
   ]
  },
  {
   "cell_type": "code",
   "execution_count": 24,
   "metadata": {},
   "outputs": [
    {
     "name": "stdout",
     "output_type": "stream",
     "text": [
      "Model: \"test_model_1\"\n",
      "_________________________________________________________________\n",
      "Layer (type)                 Output Shape              Param #   \n",
      "=================================================================\n",
      "input_layer (Dense)          (None, 10)                20        \n",
      "_________________________________________________________________\n",
      "output_layer (Dense)         (None, 1)                 11        \n",
      "=================================================================\n",
      "Total params: 31\n",
      "Trainable params: 31\n",
      "Non-trainable params: 0\n",
      "_________________________________________________________________\n"
     ]
    }
   ],
   "source": [
    "model.summary()"
   ]
  },
  {
   "cell_type": "markdown",
   "metadata": {},
   "source": [
    "* Total params - total number of parameters in the model.\n",
    "* Trainable params - these are the parameters (patterns) the model that can update as it trains.\n",
    "* Non-trainable params - these parameters aren't updated during training (this is typical when you bring in already learn patterns or parameters from other models during **Transfer learning**)\n",
    "\n",
    "**Resources:** to have a in-depth overview of Trainable params, refere to MIT- Introduction to deep learning\n",
    "\n",
    "**Excercise:** trying shuddling the number of hidden units in the dense layers to see as how that effects the number of parameters (total and trainable) by calling `model.summary()`"
   ]
  },
  {
   "cell_type": "code",
   "execution_count": 25,
   "metadata": {},
   "outputs": [
    {
     "name": "stdout",
     "output_type": "stream",
     "text": [
      "Epoch 1/100\n",
      "2/2 - 0s - loss: 27.4058 - mae: 27.4058\n",
      "Epoch 2/100\n",
      "2/2 - 0s - loss: 24.6339 - mae: 24.6339\n",
      "Epoch 3/100\n",
      "2/2 - 0s - loss: 29.8935 - mae: 29.8935\n",
      "Epoch 4/100\n",
      "2/2 - 0s - loss: 27.4055 - mae: 27.4055\n",
      "Epoch 5/100\n",
      "2/2 - 0s - loss: 14.9463 - mae: 14.9463\n",
      "Epoch 6/100\n",
      "2/2 - 0s - loss: 11.8819 - mae: 11.8819\n",
      "Epoch 7/100\n",
      "2/2 - 0s - loss: 11.1988 - mae: 11.1988\n",
      "Epoch 8/100\n",
      "2/2 - 0s - loss: 11.0910 - mae: 11.0910\n",
      "Epoch 9/100\n",
      "2/2 - 0s - loss: 40.4763 - mae: 40.4763\n",
      "Epoch 10/100\n",
      "2/2 - 0s - loss: 27.8688 - mae: 27.8688\n",
      "Epoch 11/100\n",
      "2/2 - 0s - loss: 10.2473 - mae: 10.2473\n",
      "Epoch 12/100\n",
      "2/2 - 0s - loss: 25.2803 - mae: 25.2803\n",
      "Epoch 13/100\n",
      "2/2 - 0s - loss: 16.9897 - mae: 16.9897\n",
      "Epoch 14/100\n",
      "2/2 - 0s - loss: 25.9217 - mae: 25.9217\n",
      "Epoch 15/100\n",
      "2/2 - 0s - loss: 17.9948 - mae: 17.9948\n",
      "Epoch 16/100\n",
      "2/2 - 0s - loss: 7.3510 - mae: 7.3510\n",
      "Epoch 17/100\n",
      "2/2 - 0s - loss: 10.8636 - mae: 10.8636\n",
      "Epoch 18/100\n",
      "2/2 - 0s - loss: 19.5304 - mae: 19.5304\n",
      "Epoch 19/100\n",
      "2/2 - 0s - loss: 10.3469 - mae: 10.3469\n",
      "Epoch 20/100\n",
      "2/2 - 0s - loss: 17.6985 - mae: 17.6985\n",
      "Epoch 21/100\n",
      "2/2 - 0s - loss: 15.8984 - mae: 15.8984\n",
      "Epoch 22/100\n",
      "2/2 - 0s - loss: 14.1991 - mae: 14.1991\n",
      "Epoch 23/100\n",
      "2/2 - 0s - loss: 8.7720 - mae: 8.7720\n",
      "Epoch 24/100\n",
      "2/2 - 0s - loss: 11.0570 - mae: 11.0570\n",
      "Epoch 25/100\n",
      "2/2 - 0s - loss: 12.6838 - mae: 12.6838\n",
      "Epoch 26/100\n",
      "2/2 - 0s - loss: 26.1877 - mae: 26.1877\n",
      "Epoch 27/100\n",
      "2/2 - 0s - loss: 11.7432 - mae: 11.7432\n",
      "Epoch 28/100\n",
      "2/2 - 0s - loss: 22.8730 - mae: 22.8730\n",
      "Epoch 29/100\n",
      "2/2 - 0s - loss: 9.2459 - mae: 9.2459\n",
      "Epoch 30/100\n",
      "2/2 - 0s - loss: 29.2641 - mae: 29.2641\n",
      "Epoch 31/100\n",
      "2/2 - 0s - loss: 53.0224 - mae: 53.0224\n",
      "Epoch 32/100\n",
      "2/2 - 0s - loss: 11.9951 - mae: 11.9951\n",
      "Epoch 33/100\n",
      "2/2 - 0s - loss: 15.6357 - mae: 15.6357\n",
      "Epoch 34/100\n",
      "2/2 - 0s - loss: 12.6925 - mae: 12.6925\n",
      "Epoch 35/100\n",
      "2/2 - 0s - loss: 9.2398 - mae: 9.2398\n",
      "Epoch 36/100\n",
      "2/2 - 0s - loss: 16.6497 - mae: 16.6497\n",
      "Epoch 37/100\n",
      "2/2 - 0s - loss: 11.0382 - mae: 11.0382\n",
      "Epoch 38/100\n",
      "2/2 - 0s - loss: 18.1634 - mae: 18.1634\n",
      "Epoch 39/100\n",
      "2/2 - 0s - loss: 19.1013 - mae: 19.1013\n",
      "Epoch 40/100\n",
      "2/2 - 0s - loss: 20.4324 - mae: 20.4324\n",
      "Epoch 41/100\n",
      "2/2 - 0s - loss: 14.9102 - mae: 14.9102\n",
      "Epoch 42/100\n",
      "2/2 - 0s - loss: 12.2809 - mae: 12.2809\n",
      "Epoch 43/100\n",
      "2/2 - 0s - loss: 10.7333 - mae: 10.7333\n",
      "Epoch 44/100\n",
      "2/2 - 0s - loss: 23.0260 - mae: 23.0260\n",
      "Epoch 45/100\n",
      "2/2 - 0s - loss: 10.3897 - mae: 10.3897\n",
      "Epoch 46/100\n",
      "2/2 - 0s - loss: 11.7904 - mae: 11.7904\n",
      "Epoch 47/100\n",
      "2/2 - 0s - loss: 9.6438 - mae: 9.6438\n",
      "Epoch 48/100\n",
      "2/2 - 0s - loss: 17.2335 - mae: 17.2335\n",
      "Epoch 49/100\n",
      "2/2 - 0s - loss: 9.5729 - mae: 9.5729\n",
      "Epoch 50/100\n",
      "2/2 - 0s - loss: 13.8185 - mae: 13.8185\n",
      "Epoch 51/100\n",
      "2/2 - 0s - loss: 11.5958 - mae: 11.5958\n",
      "Epoch 52/100\n",
      "2/2 - 0s - loss: 30.5538 - mae: 30.5538\n",
      "Epoch 53/100\n",
      "2/2 - 0s - loss: 14.3541 - mae: 14.3541\n",
      "Epoch 54/100\n",
      "2/2 - 0s - loss: 23.9713 - mae: 23.9713\n",
      "Epoch 55/100\n",
      "2/2 - 0s - loss: 23.1938 - mae: 23.1938\n",
      "Epoch 56/100\n",
      "2/2 - 0s - loss: 10.8837 - mae: 10.8837\n",
      "Epoch 57/100\n",
      "2/2 - 0s - loss: 12.7445 - mae: 12.7445\n",
      "Epoch 58/100\n",
      "2/2 - 0s - loss: 9.5995 - mae: 9.5995\n",
      "Epoch 59/100\n",
      "2/2 - 0s - loss: 12.5172 - mae: 12.5172\n",
      "Epoch 60/100\n",
      "2/2 - 0s - loss: 12.3200 - mae: 12.3200\n",
      "Epoch 61/100\n",
      "2/2 - 0s - loss: 17.4604 - mae: 17.4604\n",
      "Epoch 62/100\n",
      "2/2 - 0s - loss: 10.6052 - mae: 10.6052\n",
      "Epoch 63/100\n",
      "2/2 - 0s - loss: 10.4893 - mae: 10.4893\n",
      "Epoch 64/100\n",
      "2/2 - 0s - loss: 24.8450 - mae: 24.8450\n",
      "Epoch 65/100\n",
      "2/2 - 0s - loss: 10.6761 - mae: 10.6761\n",
      "Epoch 66/100\n",
      "2/2 - 0s - loss: 21.7809 - mae: 21.7809\n",
      "Epoch 67/100\n",
      "2/2 - 0s - loss: 10.7136 - mae: 10.7136\n",
      "Epoch 68/100\n",
      "2/2 - 0s - loss: 10.6397 - mae: 10.6397\n",
      "Epoch 69/100\n",
      "2/2 - 0s - loss: 22.6914 - mae: 22.6914\n",
      "Epoch 70/100\n",
      "2/2 - 0s - loss: 9.3316 - mae: 9.3316\n",
      "Epoch 71/100\n",
      "2/2 - 0s - loss: 15.4355 - mae: 15.4355\n",
      "Epoch 72/100\n",
      "2/2 - 0s - loss: 6.7437 - mae: 6.7437\n",
      "Epoch 73/100\n",
      "2/2 - 0s - loss: 11.6891 - mae: 11.6891\n",
      "Epoch 74/100\n",
      "2/2 - 0s - loss: 24.0400 - mae: 24.0400\n",
      "Epoch 75/100\n",
      "2/2 - 0s - loss: 9.5897 - mae: 9.5897\n",
      "Epoch 76/100\n",
      "2/2 - 0s - loss: 12.4371 - mae: 12.4371\n",
      "Epoch 77/100\n",
      "2/2 - 0s - loss: 16.6489 - mae: 16.6489\n",
      "Epoch 78/100\n",
      "2/2 - 0s - loss: 9.0615 - mae: 9.0615\n",
      "Epoch 79/100\n",
      "2/2 - 0s - loss: 23.9675 - mae: 23.9675\n",
      "Epoch 80/100\n",
      "2/2 - 0s - loss: 26.7463 - mae: 26.7463\n",
      "Epoch 81/100\n",
      "2/2 - 0s - loss: 11.6715 - mae: 11.6715\n",
      "Epoch 82/100\n",
      "2/2 - 0s - loss: 12.0228 - mae: 12.0228\n",
      "Epoch 83/100\n",
      "2/2 - 0s - loss: 17.4218 - mae: 17.4218\n",
      "Epoch 84/100\n",
      "2/2 - 0s - loss: 7.2629 - mae: 7.2629\n",
      "Epoch 85/100\n",
      "2/2 - 0s - loss: 14.9650 - mae: 14.9650\n",
      "Epoch 86/100\n",
      "2/2 - 0s - loss: 15.2862 - mae: 15.2862\n",
      "Epoch 87/100\n",
      "2/2 - 0s - loss: 19.1086 - mae: 19.1086\n",
      "Epoch 88/100\n",
      "2/2 - 0s - loss: 29.8229 - mae: 29.8229\n",
      "Epoch 89/100\n",
      "2/2 - 0s - loss: 10.1742 - mae: 10.1742\n",
      "Epoch 90/100\n",
      "2/2 - 0s - loss: 21.5240 - mae: 21.5240\n",
      "Epoch 91/100\n",
      "2/2 - 0s - loss: 10.5716 - mae: 10.5716\n",
      "Epoch 92/100\n",
      "2/2 - 0s - loss: 18.3977 - mae: 18.3977\n",
      "Epoch 93/100\n",
      "2/2 - 0s - loss: 7.4138 - mae: 7.4138\n",
      "Epoch 94/100\n",
      "2/2 - 0s - loss: 17.7380 - mae: 17.7380\n",
      "Epoch 95/100\n",
      "2/2 - 0s - loss: 11.1144 - mae: 11.1144\n",
      "Epoch 96/100\n",
      "2/2 - 0s - loss: 19.4346 - mae: 19.4346\n",
      "Epoch 97/100\n",
      "2/2 - 0s - loss: 12.1593 - mae: 12.1593\n",
      "Epoch 98/100\n",
      "2/2 - 0s - loss: 11.5653 - mae: 11.5653\n",
      "Epoch 99/100\n",
      "2/2 - 0s - loss: 13.8827 - mae: 13.8827\n",
      "Epoch 100/100\n",
      "2/2 - 0s - loss: 20.2277 - mae: 20.2277\n"
     ]
    },
    {
     "data": {
      "text/plain": [
       "<tensorflow.python.keras.callbacks.History at 0x178278abf40>"
      ]
     },
     "execution_count": 25,
     "metadata": {},
     "output_type": "execute_result"
    }
   ],
   "source": [
    "#fitting model to training data\n",
    "model.fit(X_train, y_train, epochs=100, verbose=2)"
   ]
  },
  {
   "cell_type": "code",
   "execution_count": 26,
   "metadata": {},
   "outputs": [
    {
     "name": "stdout",
     "output_type": "stream",
     "text": [
      "Model: \"test_model_1\"\n",
      "_________________________________________________________________\n",
      "Layer (type)                 Output Shape              Param #   \n",
      "=================================================================\n",
      "input_layer (Dense)          (None, 10)                20        \n",
      "_________________________________________________________________\n",
      "output_layer (Dense)         (None, 1)                 11        \n",
      "=================================================================\n",
      "Total params: 31\n",
      "Trainable params: 31\n",
      "Non-trainable params: 0\n",
      "_________________________________________________________________\n"
     ]
    }
   ],
   "source": [
    "#get a summary6 of the model\n",
    "model.summary()"
   ]
  },
  {
   "cell_type": "code",
   "execution_count": 27,
   "metadata": {},
   "outputs": [
    {
     "data": {
      "image/png": "[encoded data removed]",
      "text/plain": [
       "<IPython.core.display.Image object>"
      ]
     },
     "execution_count": 27,
     "metadata": {},
     "output_type": "execute_result"
    }
   ],
   "source": [
    "from tensorflow.keras.utils import plot_model\n",
    "\n",
    "plot_model(model=model, show_shapes=True)"
   ]
  },
  {
   "cell_type": "markdown",
   "metadata": {},
   "source": [
    "## Visualizing model's predictions\n",
    "\n",
    "To visualize the model's predictions, it's a good idea to plot them against the ground truth labels.\n",
    "Often we will see this in the form of y_test or y_true versus y_pred (ground truth versus the model's predictions)"
   ]
  },
  {
   "cell_type": "code",
   "execution_count": 28,
   "metadata": {},
   "outputs": [
    {
     "data": {
      "text/plain": [
       "array([[ 70.552216],\n",
       "       [ 75.13993 ],\n",
       "       [ 79.72766 ],\n",
       "       [ 84.315384],\n",
       "       [ 88.90311 ],\n",
       "       [ 93.490845],\n",
       "       [ 98.07855 ],\n",
       "       [102.66628 ],\n",
       "       [107.25402 ],\n",
       "       [111.841736]], dtype=float32)"
      ]
     },
     "execution_count": 28,
     "metadata": {},
     "output_type": "execute_result"
    }
   ],
   "source": [
    "#making some predictions\n",
    "y_pred = model.predict(X_test)\n",
    "y_pred"
   ]
  },
  {
   "cell_type": "code",
   "execution_count": 29,
   "metadata": {},
   "outputs": [
    {
     "data": {
      "text/plain": [
       "<tf.Tensor: shape=(10,), dtype=int32, numpy=array([ 70,  74,  78,  82,  86,  90,  94,  98, 102, 106])>"
      ]
     },
     "execution_count": 29,
     "metadata": {},
     "output_type": "execute_result"
    }
   ],
   "source": [
    "#ground truth\n",
    "y_test"
   ]
  },
  {
   "cell_type": "markdown",
   "metadata": {},
   "source": [
    "**Note:** If you are feeling to reuse some kind of functionality in future, it's a good idea to turn it into a function."
   ]
  },
  {
   "cell_type": "code",
   "execution_count": 30,
   "metadata": {},
   "outputs": [],
   "source": [
    "#creating a plotting function\n",
    "def plot_predictions(train_data,train_labels,test_data,test_labels,predictions):\n",
    "    '''\n",
    "    Plots training data, test data and compares predictions with the ground truth\n",
    "    '''\n",
    "    plt.figure(figsize=(10,7))\n",
    "    #plotting training data in blue\n",
    "    plt.scatter(train_data, train_labels, c='b', label=\"Training data\")\n",
    "    #plotting testing data in green\n",
    "    plt.scatter(test_data, test_labels, c='g', label=\"Testing data\")\n",
    "    #plotting model's prediction in red\n",
    "    plt.scatter(test_data, predictions, c='r', label=\"Predictions\")\n",
    "    #show legend\n",
    "    plt.legend;"
   ]
  },
  {
   "cell_type": "code",
   "execution_count": 31,
   "metadata": {},
   "outputs": [
    {
     "data": {
      "image/png": "[encoded data removed]",
      "text/plain": [
       "<Figure size 720x504 with 1 Axes>"
      ]
     },
     "metadata": {
      "needs_background": "light"
     },
     "output_type": "display_data"
    }
   ],
   "source": [
    "plot_predictions(train_data=X_train, test_data=X_test, train_labels=y_train, test_labels=y_test, predictions=y_pred)"
   ]
  },
  {
   "cell_type": "markdown",
   "metadata": {},
   "source": [
    "### Evaluating the model's predictions with regression evaluation metrics\n",
    "\n",
    "Depending on the problem, there will be different evaluation matrics to evaluate model's performance.\n",
    "Since we are working on regression, two of the main metrics:\n",
    "* MAE - mean absolute error (on average, how wrong is each of the model's predictions)\n",
    "* MSE - mean square error (square the average errors)\n",
    "* Huber - combination of MAE and MSE. Less sensitive to outliers than than MSE."
   ]
  },
  {
   "cell_type": "code",
   "execution_count": 32,
   "metadata": {},
   "outputs": [
    {
     "name": "stdout",
     "output_type": "stream",
     "text": [
      "1/1 [==============================] - 0s 110ms/step - loss: 3.1970 - mae: 3.1970\n"
     ]
    },
    {
     "data": {
      "text/plain": [
       "[3.1969733238220215, 3.1969733238220215]"
      ]
     },
     "execution_count": 32,
     "metadata": {},
     "output_type": "execute_result"
    }
   ],
   "source": [
    "#Evaluate the model\n",
    "model.evaluate(X_test, y_test)"
   ]
  },
  {
   "cell_type": "code",
   "execution_count": 40,
   "metadata": {},
   "outputs": [
    {
     "name": "stdout",
     "output_type": "stream",
     "text": [
      "tf.Tensor([ 70  74  78  82  86  90  94  98 102 106], shape=(10,), dtype=int32)\n",
      "tf.Tensor(\n",
      "[ 70.552216  75.13993   79.72766   84.315384  88.90311   93.490845\n",
      "  98.07855  102.66628  107.25402  111.841736], shape=(10,), dtype=float32)\n"
     ]
    }
   ],
   "source": [
    "print(y_test)\n",
    "y_pred = tf.squeeze(tf.constant(y_pred)) #Note: when comparing both the tensors they have to be object of same kind and also the shape has to be same\n",
    "print(y_pred)"
   ]
  },
  {
   "cell_type": "code",
   "execution_count": 41,
   "metadata": {},
   "outputs": [
    {
     "data": {
      "text/plain": [
       "<tf.Tensor: shape=(), dtype=float32, numpy=3.1969733>"
      ]
     },
     "execution_count": 41,
     "metadata": {},
     "output_type": "execute_result"
    }
   ],
   "source": [
    "#calculating Mean Absolute Error\n",
    "mae = tf.metrics.mean_absolute_error(y_true=y_test, y_pred=y_pred)\n",
    "mae"
   ]
  },
  {
   "cell_type": "code",
   "execution_count": 43,
   "metadata": {},
   "outputs": [
    {
     "data": {
      "text/plain": [
       "<tf.Tensor: shape=(), dtype=float32, numpy=13.070361>"
      ]
     },
     "execution_count": 43,
     "metadata": {},
     "output_type": "execute_result"
    }
   ],
   "source": [
    "#calculating mean square error\n",
    "mse = tf.metrics.mean_squared_error(y_true=y_test, y_pred=y_pred)\n",
    "mse"
   ]
  },
  {
   "cell_type": "markdown",
   "metadata": {},
   "source": [
    "```\n",
    "MSE is generally larger than MAE as it amplifies the erro (from the equation, its square of the error)"
   ]
  },
  {
   "cell_type": "code",
   "execution_count": 44,
   "metadata": {},
   "outputs": [],
   "source": [
    "#making some functions for MAE and MSE\n",
    "def mae(y_test, y_pred):\n",
    "    return tf.metrics.mean_absolute_error(y_true=y_test, y_pred=y_pred)\n",
    "\n",
    "def mse(y_true, y_pred):\n",
    "    return tf.metrics.mean_squared_error(y_true=y_true, y_pred=y_pred)"
   ]
  },
  {
   "cell_type": "markdown",
   "metadata": {},
   "source": [
    "## Running experiments to improve our model\n",
    "\n",
    "```\n",
    "Build a model -> fit it -> evaluate it -> tweak it -> fit it -> evaluate it ...\n",
    "```\n",
    "\n",
    "1. Get more data - get more examples for the model to train upon (more opportunities to learn patterns or relationships between features and labels).\n",
    "2. Make your model larger (using more complex model) - this might come in the form of more layers or mode hidden units in each layer.\n",
    "3. Train for longer - give your model more of a chance to find patterns in the data"
   ]
  },
  {
   "cell_type": "code",
   "execution_count": null,
   "metadata": {},
   "outputs": [],
   "source": []
  }
 ],
 "metadata": {
  "interpreter": {
   "hash": "b53974051e1a950c2cc4d754aa4a76bed398d53900ac3964926d539f65c8ad3f"
  },
  "kernelspec": {
   "display_name": "Python 3.8.10 64-bit ('tf2_gpu': conda)",
   "language": "python",
   "name": "python3"
  },
  "language_info": {
   "codemirror_mode": {
    "name": "ipython",
    "version": 3
   },
   "file_extension": ".py",
   "mimetype": "text/x-python",
   "name": "python",
   "nbconvert_exporter": "python",
   "pygments_lexer": "ipython3",
   "version": "3.8.10"
  },
  "orig_nbformat": 4
 },
 "nbformat": 4,
 "nbformat_minor": 2
}
